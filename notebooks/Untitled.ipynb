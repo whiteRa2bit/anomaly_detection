{
 "cells": [
  {
   "cell_type": "code",
   "execution_count": 1,
   "metadata": {},
   "outputs": [
    {
     "name": "stderr",
     "output_type": "stream",
     "text": [
      "Using TensorFlow backend.\n"
     ]
    }
   ],
   "source": [
    "import numpy as np\n",
    "import pandas as pd\n",
    "from sklearn.ensemble import IsolationForest\n",
    "from sklearn.metrics import f1_score, precision_score, recall_score\n",
    "from sklearn.model_selection import StratifiedKFold, GridSearchCV\n",
    "from pyod.models.auto_encoder import AutoEncoder\n",
    "\n",
    "from os import listdir\n",
    "from os.path import isfile, join\n",
    "import warnings\n",
    "\n",
    "warnings.filterwarnings(action='ignore')"
   ]
  },
  {
   "cell_type": "markdown",
   "metadata": {},
   "source": [
    "### Undersampling, Autoencoder, Isolation Forest"
   ]
  },
  {
   "cell_type": "code",
   "execution_count": 2,
   "metadata": {
    "scrolled": false
   },
   "outputs": [
    {
     "name": "stdout",
     "output_type": "stream",
     "text": [
      "dataset: letter\n",
      "X shape: (1600, 32)\n",
      "y shape: 1600 (0.94% outliers)\n",
      "method: IsolationForest\n",
      "method: AutoEncoder\n"
     ]
    },
    {
     "ename": "ValueError",
     "evalue": "Parameter values for parameter (verbose) need to be a sequence(but not a string) or np.ndarray.",
     "output_type": "error",
     "traceback": [
      "\u001b[0;31m---------------------------------------------------------------------------\u001b[0m",
      "\u001b[0;31mValueError\u001b[0m                                Traceback (most recent call last)",
      "\u001b[0;32m<ipython-input-2-c34fb017c763>\u001b[0m in \u001b[0;36m<module>\u001b[0;34m\u001b[0m\n\u001b[1;32m     88\u001b[0m                 \u001b[0mscoring\u001b[0m\u001b[0;34m=\u001b[0m\u001b[0;34m'f1'\u001b[0m\u001b[0;34m,\u001b[0m\u001b[0;34m\u001b[0m\u001b[0;34m\u001b[0m\u001b[0m\n\u001b[1;32m     89\u001b[0m                 \u001b[0mcv\u001b[0m\u001b[0;34m=\u001b[0m\u001b[0;36m4\u001b[0m\u001b[0;34m,\u001b[0m\u001b[0;34m\u001b[0m\u001b[0;34m\u001b[0m\u001b[0m\n\u001b[0;32m---> 90\u001b[0;31m                 \u001b[0mrefit\u001b[0m\u001b[0;34m=\u001b[0m\u001b[0;32mTrue\u001b[0m\u001b[0;34m\u001b[0m\u001b[0;34m\u001b[0m\u001b[0m\n\u001b[0m\u001b[1;32m     91\u001b[0m             )\n\u001b[1;32m     92\u001b[0m             \u001b[0mclf\u001b[0m\u001b[0;34m.\u001b[0m\u001b[0mfit\u001b[0m\u001b[0;34m(\u001b[0m\u001b[0mX_train_val\u001b[0m\u001b[0;34m,\u001b[0m \u001b[0my_train_val\u001b[0m\u001b[0;34m)\u001b[0m\u001b[0;34m\u001b[0m\u001b[0;34m\u001b[0m\u001b[0m\n",
      "\u001b[0;32m~/anaconda3/lib/python3.7/site-packages/sklearn/model_selection/_search.py\u001b[0m in \u001b[0;36m__init__\u001b[0;34m(self, estimator, param_grid, scoring, n_jobs, iid, refit, cv, verbose, pre_dispatch, error_score, return_train_score)\u001b[0m\n\u001b[1;32m   1143\u001b[0m             return_train_score=return_train_score)\n\u001b[1;32m   1144\u001b[0m         \u001b[0mself\u001b[0m\u001b[0;34m.\u001b[0m\u001b[0mparam_grid\u001b[0m \u001b[0;34m=\u001b[0m \u001b[0mparam_grid\u001b[0m\u001b[0;34m\u001b[0m\u001b[0;34m\u001b[0m\u001b[0m\n\u001b[0;32m-> 1145\u001b[0;31m         \u001b[0m_check_param_grid\u001b[0m\u001b[0;34m(\u001b[0m\u001b[0mparam_grid\u001b[0m\u001b[0;34m)\u001b[0m\u001b[0;34m\u001b[0m\u001b[0;34m\u001b[0m\u001b[0m\n\u001b[0m\u001b[1;32m   1146\u001b[0m \u001b[0;34m\u001b[0m\u001b[0m\n\u001b[1;32m   1147\u001b[0m     \u001b[0;32mdef\u001b[0m \u001b[0m_run_search\u001b[0m\u001b[0;34m(\u001b[0m\u001b[0mself\u001b[0m\u001b[0;34m,\u001b[0m \u001b[0mevaluate_candidates\u001b[0m\u001b[0;34m)\u001b[0m\u001b[0;34m:\u001b[0m\u001b[0;34m\u001b[0m\u001b[0;34m\u001b[0m\u001b[0m\n",
      "\u001b[0;32m~/anaconda3/lib/python3.7/site-packages/sklearn/model_selection/_search.py\u001b[0m in \u001b[0;36m_check_param_grid\u001b[0;34m(param_grid)\u001b[0m\n\u001b[1;32m    369\u001b[0m                 raise ValueError(\"Parameter values for parameter ({0}) need \"\n\u001b[1;32m    370\u001b[0m                                  \u001b[0;34m\"to be a sequence(but not a string) or\"\u001b[0m\u001b[0;34m\u001b[0m\u001b[0;34m\u001b[0m\u001b[0m\n\u001b[0;32m--> 371\u001b[0;31m                                  \" np.ndarray.\".format(name))\n\u001b[0m\u001b[1;32m    372\u001b[0m \u001b[0;34m\u001b[0m\u001b[0m\n\u001b[1;32m    373\u001b[0m             \u001b[0;32mif\u001b[0m \u001b[0mlen\u001b[0m\u001b[0;34m(\u001b[0m\u001b[0mv\u001b[0m\u001b[0;34m)\u001b[0m \u001b[0;34m==\u001b[0m \u001b[0;36m0\u001b[0m\u001b[0;34m:\u001b[0m\u001b[0;34m\u001b[0m\u001b[0;34m\u001b[0m\u001b[0m\n",
      "\u001b[0;31mValueError\u001b[0m: Parameter values for parameter (verbose) need to be a sequence(but not a string) or np.ndarray."
     ]
    }
   ],
   "source": [
    "DATA_PATH = '../source_data/'\n",
    "datasets = [\n",
    "    'letter', \n",
    "    'cardio', \n",
    "    #'mnist',\n",
    "    #'speech'\n",
    "]\n",
    "\n",
    "\n",
    "methods = [\n",
    "    IsolationForest, \n",
    "    AutoEncoder\n",
    "]\n",
    "\n",
    "skf = StratifiedKFold(n_splits=5, random_state=179)\n",
    "\n",
    "params = {\n",
    "    'ABOD':\n",
    "    {\n",
    "        'contamination': [0.05, 0.1, 0.15]\n",
    "    },\n",
    "    'LocalOutlierFactor':\n",
    "    {\n",
    "        'n_neighbors': [2, 5, 10, 20],\n",
    "        'contamination': ['auto'],\n",
    "        'novelty': [True]\n",
    "    },\n",
    "    'SOD':\n",
    "    {\n",
    "        'contamination': [0.05, 0.1, 0.15]\n",
    "    },\n",
    "    'LOCI':\n",
    "    {\n",
    "        'contamination': [0.05, 0.1, 0.15]\n",
    "    },\n",
    "    'KNN':\n",
    "    {\n",
    "        'contamination': [0.05, 0.1, 0.15]\n",
    "    },\n",
    "    'SOD':\n",
    "    {\n",
    "        'contamination': [0.05, 0.1, 0.15]\n",
    "    },\n",
    "    'IsolationForest':\n",
    "    {\n",
    "        \n",
    "    },\n",
    "    'AutoEncoder':\n",
    "    {\n",
    "        'hidden_neurons': [32, 16, 16, 32],\n",
    "        'verbose': 0\n",
    "    }\n",
    "}\n",
    "\n",
    "\n",
    "def get_y(method_name, y):\n",
    "    y_sym = y * 2 - 1\n",
    "    if method_name in ['LocalOutlierFactor', 'IsolationForest']:\n",
    "        return y_sym\n",
    "    \n",
    "    return y\n",
    "\n",
    "\n",
    "for dataset in datasets:\n",
    "    X = pd.read_csv(DATA_PATH + dataset + '_x.csv', header=None).values\n",
    "    y = pd.read_csv(DATA_PATH + dataset + '_y.csv', header=None).values.ravel()\n",
    "    \n",
    "    print(\"dataset:\", dataset)\n",
    "    print(\"X shape:\", X.shape)\n",
    "    print(f\"y shape: {y.size} ({round(y[y == 0].size / y.size, 2)}% outliers)\")\n",
    "    \n",
    "    preds_df = pd.DataFrame()\n",
    "    \n",
    "    for method in methods:\n",
    "        preds = np.zeros(y.size)\n",
    "        \n",
    "        method_name = method.__name__\n",
    "        print(\"method:\", method_name)\n",
    "        \n",
    "        for train_val_index, test_index in skf.split(X, y):\n",
    "            y_cur = get_y(method_name, y)\n",
    "            X_train_val, X_test = X[train_val_index], X[test_index]\n",
    "            y_train_val, y_test = y_cur[train_val_index], y_cur[test_index]\n",
    "            \n",
    "            clf = GridSearchCV(\n",
    "                method(),\n",
    "                params[method_name],\n",
    "                scoring='f1',\n",
    "                cv=4,\n",
    "                refit=True\n",
    "            )\n",
    "            clf.fit(X_train_val, y_train_val)\n",
    "            preds[test_index] = clf.decision_function(X_test)\n",
    "        \n",
    "        preds_df[method_name] = preds\n",
    "\n",
    "    preds_df.to_csv(DATA_PATH + dataset + '_preds.csv')\n",
    "    print()"
   ]
  },
  {
   "cell_type": "code",
   "execution_count": 13,
   "metadata": {},
   "outputs": [
    {
     "data": {
      "text/plain": [
       "array([0, 1])"
      ]
     },
     "execution_count": 13,
     "metadata": {},
     "output_type": "execute_result"
    }
   ],
   "source": [
    "np.unique(y_train_val)"
   ]
  }
 ],
 "metadata": {
  "kernelspec": {
   "display_name": "Python 3",
   "language": "python",
   "name": "python3"
  },
  "language_info": {
   "codemirror_mode": {
    "name": "ipython",
    "version": 3
   },
   "file_extension": ".py",
   "mimetype": "text/x-python",
   "name": "python",
   "nbconvert_exporter": "python",
   "pygments_lexer": "ipython3",
   "version": "3.7.4"
  }
 },
 "nbformat": 4,
 "nbformat_minor": 2
}
